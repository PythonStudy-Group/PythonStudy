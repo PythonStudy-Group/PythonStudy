{
 "cells": [
  {
   "cell_type": "code",
   "execution_count": 7,
   "id": "ce91e4bb",
   "metadata": {},
   "outputs": [
    {
     "name": "stdout",
     "output_type": "stream",
     "text": [
      "나이를 입력하세요 18\n",
      "미성년자는 주류를 구매할 수 없습니다.\n",
      "2 년 후에 오세요.\n",
      "감사합니다.\n"
     ]
    }
   ],
   "source": [
    "#조건문\n",
    "age=int(input('나이를 입력하세요 '))\n",
    "if age<20:\n",
    "    print('미성년자는 주류를 구매할 수 없습니다.')\n",
    "    print(20-age,\"년 후에 오세요.\")\n",
    "print('감사합니다.')"
   ]
  },
  {
   "cell_type": "code",
   "execution_count": 8,
   "id": "e9c417ea",
   "metadata": {},
   "outputs": [
    {
     "name": "stdout",
     "output_type": "stream",
     "text": [
      "20\n"
     ]
    }
   ],
   "source": [
    "#비교연산자\n",
    "age=20\n",
    "if age!=10:\n",
    "    print(age)"
   ]
  },
  {
   "cell_type": "code",
   "execution_count": 9,
   "id": "9f734b93",
   "metadata": {},
   "outputs": [
    {
     "name": "stdout",
     "output_type": "stream",
     "text": [
      "구매금액은? 2000\n",
      "배송비 2500원이 추가됩니다.\n",
      "결제금액은 4500 원입니다.\n"
     ]
    }
   ],
   "source": [
    "#배송비 문제\n",
    "price=int(input('구매금액은? '))\n",
    "if price<5000:\n",
    "    print('배송비 2500원이 추가됩니다.')\n",
    "    price+=2500\n",
    "print('결제금액은',price,'원입니다.')"
   ]
  },
  {
   "cell_type": "code",
   "execution_count": 11,
   "id": "3812a6e4",
   "metadata": {},
   "outputs": [
    {
     "name": "stdout",
     "output_type": "stream",
     "text": [
      "오늘은 주말입니까? 주중입니까? 주중\n",
      "아침 7시 입니다! 주인님 일어나세요!\n"
     ]
    }
   ],
   "source": [
    "#알람 문제\n",
    "day=input('오늘은 주말입니까? 주중입니까? ')\n",
    "if day=='주말':\n",
    "    print('아침 10시 입니다! 주인님 일어나세요!')\n",
    "if day=='주중':\n",
    "    print('아침 7시 입니다! 주인님 일어나세요!')"
   ]
  },
  {
   "cell_type": "code",
   "execution_count": 14,
   "id": "18223c33",
   "metadata": {},
   "outputs": [
    {
     "name": "stdout",
     "output_type": "stream",
     "text": [
      "오늘은 며칠입니까? 29\n",
      "오늘은 홀수번호 차량만 통행 가능합니다.\n",
      "짝수번호 차량은 오늘 대중교통을 이용하세요.\n"
     ]
    }
   ],
   "source": [
    "#,차량 2부제 문제\n",
    "date=int(input('오늘은 며칠입니까? '))\n",
    "if date%2==0:\n",
    "    print('오늘은 짝수번호 차량만 통행 가능합니다.')\n",
    "    print('홀수번호 차량은 오늘 대중교통을 이용하세요.')\n",
    "else:\n",
    "    print('오늘은 홀수번호 차량만 통행 가능합니다.')\n",
    "    print('짝수번호 차량은 오늘 대중교통을 이용하세요.')"
   ]
  },
  {
   "cell_type": "code",
   "execution_count": 15,
   "id": "68250106",
   "metadata": {},
   "outputs": [
    {
     "name": "stdout",
     "output_type": "stream",
     "text": [
      "나이가 어떻게 되세요? 22\n",
      "성인은 15,000원입니다.\n",
      "입장료를 넣어주세요.--> 21000\n",
      "6000 원을 거슬러 드리겠습니다.\n"
     ]
    }
   ],
   "source": [
    "#입장료 문제\n",
    "age=int(input('나이가 어떻게 되세요? '))\n",
    "if age>=20:\n",
    "    print('성인은 15,000원입니다.')\n",
    "    price=15000\n",
    "else:\n",
    "    print('미성년자는 6,000원입니다.')\n",
    "    price=6000\n",
    "\n",
    "price_input=int(input('입장료를 넣어주세요.--> '))\n",
    "if price_input<price:\n",
    "    print(price-price_input,'원 더 내야합니다.')\n",
    "else:\n",
    "    print(price_input-price,'원을 거슬러 드리겠습니다.')"
   ]
  },
  {
   "cell_type": "code",
   "execution_count": 19,
   "id": "0b3fb1b6",
   "metadata": {},
   "outputs": [
    {
     "name": "stdout",
     "output_type": "stream",
     "text": [
      "구매금액은? 80000\n",
      "무료배송입니다.\n",
      "최종 결제금액은 80000 원입니다.\n"
     ]
    }
   ],
   "source": [
    "#무료배송 문제\n",
    "price=int(input('구매금액은? '))\n",
    "if price<20000:\n",
    "    print('주문금액이 부족합니다.')\n",
    "elif price<50000:\n",
    "    print('배송비 2500원이 추가됩니다.')\n",
    "    price+=2500\n",
    "else:\n",
    "    print('무료배송입니다.')\n",
    "print('최종 결제금액은',price,'원입니다.')"
   ]
  },
  {
   "cell_type": "code",
   "execution_count": 22,
   "id": "f8201540",
   "metadata": {},
   "outputs": [
    {
     "name": "stdout",
     "output_type": "stream",
     "text": [
      "미세먼지 저감 조치에 따른 차량 2부제를 시행합니다!\n",
      "오늘은 며칠입니까? 30\n",
      "짝수번호 차량만 통행 가능\n"
     ]
    }
   ],
   "source": [
    "#중첩 조건문\n",
    "print('미세먼지 저감 조치에 따른 차량 2부제를 시행합니다!')\n",
    "date=int(input('오늘은 며칠입니까? '))\n",
    "if date<=31:\n",
    "    if date %2==1:\n",
    "        print('홀수번호 차량만 통행 가능')\n",
    "    else:\n",
    "        print('짝수번호 차량만 통행 가능')\n",
    "else:\n",
    "    print('올바른 날짜를 입력하세요.')"
   ]
  },
  {
   "cell_type": "code",
   "execution_count": 23,
   "id": "45002bcc",
   "metadata": {},
   "outputs": [
    {
     "name": "stdout",
     "output_type": "stream",
     "text": [
      "기침이 있습니까?(Y/N)Y\n",
      "체온을 입력하세요. 40\n",
      "독감일 수 있습니다.\n"
     ]
    }
   ],
   "source": [
    "#1\n",
    "a=input('기침이 있습니까?(Y/N)' )\n",
    "t=int(input('체온을 입력하세요. '))\n",
    "\n",
    "if a=='Y'and t>=38.5:\n",
    "    print('독감일 수 있습니다.')"
   ]
  },
  {
   "cell_type": "code",
   "execution_count": 27,
   "id": "14efe027",
   "metadata": {},
   "outputs": [
    {
     "name": "stdout",
     "output_type": "stream",
     "text": [
      "메뉴를 입력하세요.(김밥/라면) 라면\n",
      "기본라면(3500)\n",
      "떡라면(4000)\n"
     ]
    }
   ],
   "source": [
    "#2\n",
    "menu=input('메뉴를 입력하세요.(김밥/라면) ')\n",
    "\n",
    "if menu=='김밥':\n",
    "    print('야채김밥(2500)')\n",
    "    print('참치김밥(3500)')\n",
    "elif menu=='라면':\n",
    "    print('기본라면(3500)')\n",
    "    print('떡라면(4000)')\n",
    "else:\n",
    "    print('올바른 메뉴를 입력해 주세요.')"
   ]
  },
  {
   "cell_type": "code",
   "execution_count": 31,
   "id": "3da151b7",
   "metadata": {},
   "outputs": [
    {
     "name": "stdout",
     "output_type": "stream",
     "text": [
      "점수를 입력하세요. 90\n",
      "A등급\n"
     ]
    }
   ],
   "source": [
    "#3\n",
    "score=int(input('점수를 입력하세요. '))\n",
    "\n",
    "if score<0 or score>100:\n",
    "    print('잘못된 숫자를 입력했습니다.')\n",
    "elif score>=80:\n",
    "    print('A등급')\n",
    "elif 40<=score<80:\n",
    "    print('B등급')\n",
    "else:\n",
    "    print('C등급')"
   ]
  }
 ],
 "metadata": {
  "kernelspec": {
   "display_name": "Python 3 (ipykernel)",
   "language": "python",
   "name": "python3"
  },
  "language_info": {
   "codemirror_mode": {
    "name": "ipython",
    "version": 3
   },
   "file_extension": ".py",
   "mimetype": "text/x-python",
   "name": "python",
   "nbconvert_exporter": "python",
   "pygments_lexer": "ipython3",
   "version": "3.9.12"
  }
 },
 "nbformat": 4,
 "nbformat_minor": 5
}
